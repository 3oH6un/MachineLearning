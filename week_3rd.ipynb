{
 "cells": [
  {
   "cell_type": "code",
   "execution_count": 2,
   "id": "initial_id",
   "metadata": {
    "collapsed": true,
    "ExecuteTime": {
     "end_time": "2023-09-13T09:11:39.524309Z",
     "start_time": "2023-09-13T09:11:39.394719Z"
    }
   },
   "outputs": [],
   "source": [
    "import numpy as np"
   ]
  },
  {
   "cell_type": "markdown",
   "source": [
    "### Numpy Ndarray"
   ],
   "metadata": {
    "collapsed": false
   },
   "id": "ffe5c90736732c9"
  },
  {
   "cell_type": "code",
   "execution_count": 2,
   "outputs": [
    {
     "name": "stdout",
     "output_type": "stream",
     "text": [
      "array1 type : <class 'numpy.ndarray'>\n",
      "array1 array 형태 : (3,) \n",
      "\n",
      "array2 type : <class 'numpy.ndarray'>\n",
      "array2 array 형태 : (2, 3) \n",
      "\n",
      "array3 type : <class 'numpy.ndarray'>\n",
      "array3 array 형태 : (1, 3) \n"
     ]
    }
   ],
   "source": [
    "array1 = np.array([1,2,3])\n",
    "print('array1 type :', type(array1))\n",
    "# np.array()는 변환을 원하는 객체를 인자로 입력하명 ndarray를 반환\n",
    "print('array1 array 형태 :', array1.shape, '\\n')\n",
    "# array1의 shape는 (3,) -> 1차원 array의 3개의 데이터를 가지고 있음\n",
    "\n",
    "array2 = np.array([[1, 2, 3], [2, 3, 4]])\n",
    "print('array2 type :', type(array2))\n",
    "print('array2 array 형태 :', array2.shape, '\\n')\n",
    "# array2의 shape는 (2, 3) -> 2차원 array로 2개의 로우와 3개의 컬럼\n",
    "\n",
    "array3 = np.array([[1,2,3]])\n",
    "print('array3 type :', type(array3))\n",
    "print('array3 array 형태 :', array3.shape, '\\n')\n",
    "# array2의 shape는 (1, 3) -> 2차원 array로 1개의 로우와 3개의 컬럼"
   ],
   "metadata": {
    "collapsed": false,
    "ExecuteTime": {
     "end_time": "2023-09-13T08:54:39.909837Z",
     "start_time": "2023-09-13T08:54:39.907303Z"
    }
   },
   "id": "3efbf0aeb8f8673f"
  },
  {
   "cell_type": "code",
   "execution_count": 3,
   "outputs": [
    {
     "name": "stdout",
     "output_type": "stream",
     "text": [
      "1 2 2\n",
      "array1 : 1차원 \n",
      "array2 : 2차원 \n",
      "array3 : 2차원\n"
     ]
    }
   ],
   "source": [
    "print(array1.ndim, array2.ndim, array3.ndim)\n",
    "print(f'array1 : {array1.ndim}차원 \\narray2 : {array2.ndim}차원 \\narray3 : {array3.ndim}차원')"
   ],
   "metadata": {
    "collapsed": false,
    "ExecuteTime": {
     "end_time": "2023-09-13T08:54:41.261115Z",
     "start_time": "2023-09-13T08:54:41.255081Z"
    }
   },
   "id": "f749aec7683c8e03"
  },
  {
   "cell_type": "code",
   "execution_count": 4,
   "outputs": [
    {
     "name": "stdout",
     "output_type": "stream",
     "text": [
      "{1, 2, 3}\n",
      "<class 'numpy.ndarray'>\n",
      "{1, 2, 3} object\n"
     ]
    }
   ],
   "source": [
    "list1 = {1, 2, 3}\n",
    "print(list1)\n",
    "array1 = np.array(list1)\n",
    "print(type(array1))\n",
    "print(array1, array1.dtype)"
   ],
   "metadata": {
    "collapsed": false,
    "ExecuteTime": {
     "end_time": "2023-09-13T08:54:42.449281Z",
     "start_time": "2023-09-13T08:54:42.443564Z"
    }
   },
   "id": "71309c02f060deb0"
  },
  {
   "cell_type": "code",
   "execution_count": 5,
   "outputs": [
    {
     "name": "stdout",
     "output_type": "stream",
     "text": [
      "['1' '2' 'test'] <U21\n",
      "[1. 2. 3.] float64\n"
     ]
    }
   ],
   "source": [
    "# int + string / int + float 리스트 ndarray로 변경해보면?\n",
    "list2 = [1, 2, 'test']\n",
    "array2 = np.array(list2)\n",
    "print(array2, array2.dtype)\n",
    "# 문자열 값으로 변환됨(UNICODE)\n",
    "\n",
    "list3 = [1, 2, 3.0]\n",
    "array3 = np.array(list3)\n",
    "print(array3, array3.dtype)\n",
    "# float64로 변환됨"
   ],
   "metadata": {
    "collapsed": false,
    "ExecuteTime": {
     "end_time": "2023-09-13T08:54:43.362601Z",
     "start_time": "2023-09-13T08:54:43.345094Z"
    }
   },
   "id": "d507430d3a016d5b"
  },
  {
   "cell_type": "code",
   "execution_count": 6,
   "outputs": [
    {
     "name": "stdout",
     "output_type": "stream",
     "text": [
      "[1. 2. 3.] float64\n",
      "[1 2 3] int32\n",
      "[1 2 3] int32\n"
     ]
    }
   ],
   "source": [
    "array_int = np.array([1, 2, 3])\n",
    "array_float = array_int.astype('float64')\n",
    "print(array_float, array_float.dtype)\n",
    "\n",
    "array_int1 = array_float.astype('int32')\n",
    "print(array_int1, array_int1.dtype)\n",
    "\n",
    "array_float1 = np.array([1.1, 2.1, 3.1])\n",
    "array_int2 = array_float1.astype('int32')\n",
    "print(array_int2, array_int2.dtype)"
   ],
   "metadata": {
    "collapsed": false,
    "ExecuteTime": {
     "end_time": "2023-09-13T08:54:46.372591Z",
     "start_time": "2023-09-13T08:54:46.366765Z"
    }
   },
   "id": "e8576390582761c8"
  },
  {
   "cell_type": "code",
   "execution_count": 7,
   "outputs": [
    {
     "name": "stdout",
     "output_type": "stream",
     "text": [
      "[0 1 2 3 4 5 6 7 8 9]\n",
      "int64 (10,)\n"
     ]
    }
   ],
   "source": [
    "# 특정 크기와 차원을 가진 ndarray를 연속값이나 0 또는 1로 초기화해 쉽게 생성하기\n",
    "# 주로 테스트용 데이터 또는 대규모 데이터 일괄 초기화 때 사용\n",
    "# arrange() - range()와 유사한 기능\n",
    "# array를 range()로 표현하는 것\n",
    "\n",
    "sequence_array = np.arange(10)\n",
    "print(sequence_array)\n",
    "print(sequence_array.dtype, sequence_array.shape)"
   ],
   "metadata": {
    "collapsed": false,
    "ExecuteTime": {
     "end_time": "2023-09-13T08:54:47.614909Z",
     "start_time": "2023-09-13T08:54:47.611429Z"
    }
   },
   "id": "e2256bb7a9e8fc07"
  },
  {
   "cell_type": "code",
   "execution_count": 8,
   "outputs": [
    {
     "name": "stdout",
     "output_type": "stream",
     "text": [
      "[[0 0]\n",
      " [0 0]\n",
      " [0 0]]\n",
      "int32 (3, 2)\n",
      "[[1. 1.]\n",
      " [1. 1.]\n",
      " [1. 1.]]\n",
      "float64 (3, 2)\n"
     ]
    }
   ],
   "source": [
    "# 특정 크기와 차원을 가진 ndarray를 연속값이나 0 또는 1로 초기화해 쉽게 생성하기\n",
    "# 주로 테스트용 데이터 또는 대규모 데이터 일괄 초기화 때 사용\n",
    "# zeros() -> shape만 입력하면 모든 값을 0으로 채운 ndarray 반환\n",
    "# ones() -> shape값을 입력하면 모든 값을 1로 채운 ndarray 반환\n",
    "# .dtype 정해주지 않으면 기본적으로 float64로 채움\n",
    "\n",
    "zero_array = np.zeros((3, 2), dtype='int32')\n",
    "print(zero_array)\n",
    "print(zero_array.dtype, zero_array.shape)\n",
    "\n",
    "one_array = np.ones((3,2))\n",
    "print(one_array)\n",
    "print(one_array.dtype, one_array.shape)"
   ],
   "metadata": {
    "collapsed": false,
    "ExecuteTime": {
     "end_time": "2023-09-13T08:59:38.947630Z",
     "start_time": "2023-09-13T08:59:38.936354Z"
    }
   },
   "id": "5d42e052654b060a"
  },
  {
   "cell_type": "code",
   "execution_count": 9,
   "outputs": [
    {
     "name": "stdout",
     "output_type": "stream",
     "text": [
      "array1 : \n",
      " [0 1 2 3 4 5 6 7 8 9]\n",
      "array2 : \n",
      " [[0 1 2 3 4]\n",
      " [5 6 7 8 9]]\n",
      "array3 : \n",
      " [[0 1]\n",
      " [2 3]\n",
      " [4 5]\n",
      " [6 7]\n",
      " [8 9]]\n"
     ]
    }
   ],
   "source": [
    "# reshape() 메서드는 ndarray를 특정 차원 및 크기로 반환\n",
    "# 예) 0~9까지의 1차원 ndarray를 2row * 5column과  5row * 2column 형태로 2차원  ndarray로 변환\n",
    "\n",
    "array1 = np.arange(10)\n",
    "print('array1 : \\n', array1)\n",
    "\n",
    "array2 = array1.reshape(2, 5)\n",
    "print('array2 : \\n', array2)\n",
    "\n",
    "array3 = array1.reshape(5, 2)\n",
    "print('array3 : \\n', array3)\n",
    "\n",
    "# 지정된 사이즈로 변경이 불가능 하면 오류 발생 (개수가 맞아야 함)"
   ],
   "metadata": {
    "collapsed": false,
    "ExecuteTime": {
     "end_time": "2023-09-13T09:05:49.647072Z",
     "start_time": "2023-09-13T09:05:49.631257Z"
    }
   },
   "id": "e4be335bd8e6244e"
  },
  {
   "cell_type": "code",
   "execution_count": 4,
   "outputs": [
    {
     "name": "stdout",
     "output_type": "stream",
     "text": [
      "[0 1 2 3 4 5 6 7 8 9]\n",
      "array2 shape : (2, 5)\n",
      "array3 shape : (5, 2)\n"
     ]
    }
   ],
   "source": [
    "# reshape(에서 인자를 -1로 적용하면 원래 ndarray와 호환되는 새로운 shape로 변환해줌\n",
    "\n",
    "array1 = np.arange(10)\n",
    "print(array1)\n",
    "array2 = array1.reshape(-1, 5)\n",
    "print('array2 shape :', array2.shape)\n",
    "array3 = array1.reshape(5, -1)\n",
    "print('array3 shape :', array3.shape)\n",
    "\n",
    "# -> array1은 1차원 ndarray로 0~9까지의 데이터\n",
    "# row -1, column 5 \n",
    "# -> 5개의 column에 맞는 row를 자동으로 새롭게 생성하여 변환 \n",
    "# -> 10개의 1차원 데이터와 호환될 수 있는 고정된 5개 column에 맞는 row 개수는 2 \n",
    "# -> 2 * 5의 2차원 ndarray로 변환\n",
    "# -> (5, -1) 10갱의 1차원 데이터와 호환되는 고정된 5개의 row에 맞는 column은 5*2의 2차원 ndarray로 변환\n",
    "# -1을 사용하더라도 호환될 수 없는 형태는 반환할 수 없음"
   ],
   "metadata": {
    "collapsed": false,
    "ExecuteTime": {
     "end_time": "2023-09-13T09:15:08.866629Z",
     "start_time": "2023-09-13T09:15:08.861063Z"
    }
   },
   "id": "4be67fef4a76605"
  },
  {
   "cell_type": "code",
   "execution_count": 5,
   "outputs": [
    {
     "name": "stdout",
     "output_type": "stream",
     "text": [
      "array3d : \n",
      " [[[0, 1], [2, 3]], [[4, 5], [6, 7]]]\n",
      "array5 : \n",
      " [[0], [1], [2], [3], [4], [5], [6], [7]]\n",
      "array5 shape : (8, 1)\n",
      "array6 : \n",
      " [[0], [1], [2], [3], [4], [5], [6], [7]]\n",
      "array6 shape : (8, 1)\n"
     ]
    }
   ],
   "source": [
    "array1 = np.arange(8)\n",
    "array3d = array1.reshape((2,2,2))\n",
    "print('array3d : \\n', array3d.tolist())\n",
    "\n",
    "# 3차원 ndarray를 2차원 ndarray로 변환\n",
    "array5 = array3d.reshape(-1, 1)\n",
    "print('array5 : \\n', array5.tolist())\n",
    "print('array5 shape :', array5.shape)\n",
    "\n",
    "# 1차원 ndarray를 2차원  ndarray로 변환\n",
    "array6 = array1.reshape(-1, 1)\n",
    "print('array6 : \\n', array6.tolist())\n",
    "print('array6 shape :', array6.shape)"
   ],
   "metadata": {
    "collapsed": false,
    "ExecuteTime": {
     "end_time": "2023-09-13T09:18:47.778864Z",
     "start_time": "2023-09-13T09:18:47.768593Z"
    }
   },
   "id": "52c65549f61908a2"
  },
  {
   "cell_type": "code",
   "execution_count": 11,
   "outputs": [
    {
     "name": "stdout",
     "output_type": "stream",
     "text": [
      "array1 : [1 2 3 4 5 6 7 8 9]\n",
      "value : 3\n",
      "<class 'numpy.int64'>\n",
      "맨 뒤의 값 : 9 \n",
      "맨 뒤에서 두 번째 값 : 8\n"
     ]
    }
   ],
   "source": [
    "# 1부터 9까지의 1차원 ndarray 생성\n",
    "array1 = np.arange(start=1, stop=10)\n",
    "print('array1 :', array1)\n",
    "# index는 0부터 시작하므로 array1[2]는 3번째 index 위치의 데이터 값을 의미\n",
    "value = array1[2]\n",
    "print('value :', value)\n",
    "print(type(value))\n",
    "\n",
    "print('맨 뒤의 값 :', array1[-1], '\\n맨 뒤에서 두 번째 값 :', array1[-2])"
   ],
   "metadata": {
    "collapsed": false,
    "ExecuteTime": {
     "end_time": "2023-09-13T09:24:03.447880Z",
     "start_time": "2023-09-13T09:24:03.443747Z"
    }
   },
   "id": "436c7cb2905a594c"
  },
  {
   "cell_type": "code",
   "execution_count": 12,
   "outputs": [
    {
     "name": "stdout",
     "output_type": "stream",
     "text": [
      "array1 : [9 2 3 4 5 6 7 8 0]\n"
     ]
    }
   ],
   "source": [
    "# 데이터 값 바꾸기\n",
    "array1[0] = 9\n",
    "array1[8] = 0\n",
    "print('array1 :', array1)"
   ],
   "metadata": {
    "collapsed": false,
    "ExecuteTime": {
     "end_time": "2023-09-13T09:24:35.540533Z",
     "start_time": "2023-09-13T09:24:35.522478Z"
    }
   },
   "id": "ef1324f280a903d6"
  },
  {
   "cell_type": "code",
   "execution_count": 14,
   "outputs": [
    {
     "name": "stdout",
     "output_type": "stream",
     "text": [
      "[[1 2 3]\n",
      " [4 5 6]\n",
      " [7 8 9]]\n",
      "(row = 0, column = 0) index 가리키는 값 : 1\n",
      "(row = 0, column = 1) index 가리키는 값 : 2\n",
      "(row = 1, column = 0) index 가리키는 값 : 4\n",
      "(row = 1, column = 1) index 가리키는 값 : 5\n"
     ]
    }
   ],
   "source": [
    "array1d = np.arange(start=1, stop=10)\n",
    "array2d = array1d.reshape(3, 3)\n",
    "print(array2d)\n",
    "\n",
    "print('(row = 0, column = 0) index 가리키는 값 :', array2d[0, 0])\n",
    "print('(row = 0, column = 1) index 가리키는 값 :', array2d[0, 1])\n",
    "print('(row = 1, column = 0) index 가리키는 값 :', array2d[1, 0])\n",
    "print('(row = 1, column = 1) index 가리키는 값 :', array2d[1, 1])"
   ],
   "metadata": {
    "collapsed": false,
    "ExecuteTime": {
     "end_time": "2023-09-13T09:26:35.152337Z",
     "start_time": "2023-09-13T09:26:35.150188Z"
    }
   },
   "id": "8598627a2eda6dc8"
  },
  {
   "cell_type": "code",
   "execution_count": 15,
   "outputs": [
    {
     "name": "stdout",
     "output_type": "stream",
     "text": [
      "[1 2 3]\n",
      "<class 'numpy.ndarray'>\n"
     ]
    }
   ],
   "source": [
    "array1 = np.arange(start=1, stop=10)\n",
    "array3 = array1[0:3]\n",
    "print(array3)\n",
    "print(type(array3))"
   ],
   "metadata": {
    "collapsed": false,
    "ExecuteTime": {
     "end_time": "2023-09-13T09:29:34.422743Z",
     "start_time": "2023-09-13T09:29:34.407468Z"
    }
   },
   "id": "5fff2a11e9defd0c"
  },
  {
   "cell_type": "code",
   "execution_count": 16,
   "outputs": [
    {
     "name": "stdout",
     "output_type": "stream",
     "text": [
      "[1 2 3]\n",
      "[1 2 3]\n",
      "[1 2 3 4 5 6 7 8 9]\n"
     ]
    }
   ],
   "source": [
    "array1 = np.arange(start=1, stop=10)\n",
    "array4 = array1[:3]\n",
    "print(array4)\n",
    "\n",
    "array5 = array1[:3]\n",
    "print(array5)\n",
    "\n",
    "array6 = array1[:]\n",
    "print(array6)"
   ],
   "metadata": {
    "collapsed": false,
    "ExecuteTime": {
     "end_time": "2023-09-13T09:30:34.182528Z",
     "start_time": "2023-09-13T09:30:34.165702Z"
    }
   },
   "id": "67323953d53bc526"
  },
  {
   "cell_type": "code",
   "execution_count": 17,
   "outputs": [
    {
     "name": "stdout",
     "output_type": "stream",
     "text": [
      "array2d : \n",
      " [[1 2 3]\n",
      " [4 5 6]\n",
      " [7 8 9]]\n",
      "array2d[0:2, 0:2] \n",
      " [[1 2]\n",
      " [4 5]]\n",
      "array2d[1:3, 0:3] \n",
      " [[4 5 6]\n",
      " [7 8 9]]\n",
      "array2d[1:3, :] \n",
      " [[4 5 6]\n",
      " [7 8 9]]\n",
      "array2d[:, :] \n",
      " [[1 2 3]\n",
      " [4 5 6]\n",
      " [7 8 9]]\n",
      "array2d[:2, 1:] \n",
      " [[2 3]\n",
      " [5 6]]\n",
      "array2d[:2, :] \n",
      " [[1 2 3]\n",
      " [4 5 6]]\n"
     ]
    }
   ],
   "source": [
    "array1d = np.arange(1, 10)\n",
    "array2d = array1d.reshape(3, 3)\n",
    "print('array2d : \\n', array2d)\n",
    "\n",
    "print('array2d[0:2, 0:2] \\n', array2d[0:2, 0:2])\n",
    "print('array2d[1:3, 0:3] \\n', array2d[1:3, 0:3])\n",
    "print('array2d[1:3, :] \\n', array2d[1:3, :])\n",
    "print('array2d[:, :] \\n', array2d[:, :])\n",
    "print('array2d[:2, 1:] \\n', array2d[:2, 1:])\n",
    "print('array2d[:2, :] \\n', array2d[:2, :])\n",
    "\n",
    "\n"
   ],
   "metadata": {
    "collapsed": false,
    "ExecuteTime": {
     "end_time": "2023-09-13T09:34:20.210428Z",
     "start_time": "2023-09-13T09:34:20.190486Z"
    }
   },
   "id": "bfb1d37b346f45ab"
  },
  {
   "cell_type": "code",
   "execution_count": 22,
   "outputs": [
    {
     "name": "stdout",
     "output_type": "stream",
     "text": [
      "array1d > 불린 인덱싱 결과 값 : [6 7 8 9]\n",
      "불린 인덱스로 필터링 결과 : [6 7 8 9]\n",
      "일반 인덱스로 필터링 결과 : [6 7 8 9]\n"
     ]
    }
   ],
   "source": [
    "array1d = np.arange(1, 10)\n",
    "# [] 안에 array1d > 5 Boolean indexing을 적용\n",
    "array3 = array1d[array1d > 5]\n",
    "print(f'array1d > 불린 인덱싱 결과 값 : {array3}')\n",
    "\n",
    "boolean_indexes = np.array([False, False, False, False, False, True, True, True, True])\n",
    "array3 = array1d[boolean_indexes]\n",
    "print(\"불린 인덱스로 필터링 결과 :\", array3)\n",
    "\n",
    "indexes = np.array([5, 6, 7, 8])\n",
    "array4 = array1d[indexes]\n",
    "print(\"일반 인덱스로 필터링 결과 :\", array4)"
   ],
   "metadata": {
    "collapsed": false,
    "ExecuteTime": {
     "end_time": "2023-09-13T09:40:04.619126Z",
     "start_time": "2023-09-13T09:40:04.617381Z"
    }
   },
   "id": "27e16102d7d78f60"
  },
  {
   "cell_type": "code",
   "execution_count": null,
   "outputs": [],
   "source": [],
   "metadata": {
    "collapsed": false
   },
   "id": "b902579c0edf6303"
  }
 ],
 "metadata": {
  "kernelspec": {
   "display_name": "Python 3",
   "language": "python",
   "name": "python3"
  },
  "language_info": {
   "codemirror_mode": {
    "name": "ipython",
    "version": 2
   },
   "file_extension": ".py",
   "mimetype": "text/x-python",
   "name": "python",
   "nbconvert_exporter": "python",
   "pygments_lexer": "ipython2",
   "version": "2.7.6"
  }
 },
 "nbformat": 4,
 "nbformat_minor": 5
}
