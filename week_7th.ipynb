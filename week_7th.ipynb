{
 "cells": [
  {
   "cell_type": "code",
   "execution_count": 1,
   "id": "initial_id",
   "metadata": {
    "collapsed": true,
    "ExecuteTime": {
     "end_time": "2023-10-11T07:59:56.082022Z",
     "start_time": "2023-10-11T07:59:55.458161Z"
    }
   },
   "outputs": [
    {
     "name": "stdout",
     "output_type": "stream",
     "text": [
      "0.28964136366774906\n",
      "0.2896270823208256\n",
      "0.2896270823208256\n"
     ]
    }
   ],
   "source": [
    "from sklearn.linear_model import Lasso, Ridge, ElasticNet\n",
    "import numpy as np\n",
    "\n",
    "# 데이터셋 가정\n",
    "X_train = np.random.random((10, 2))\n",
    "y_train = np.random.random((10, 1))\n",
    "\n",
    "# 라쏘, 릿지, 엘라스틱넷 적용 선형 회귀 모형 선언\n",
    "model_l = Lasso(alpha=0.1)\n",
    "model_r = Ridge(alpha=0.1)\n",
    "model_e = ElasticNet(alpha=0.1, l1_ratio=0.5)\n",
    "\n",
    "# 선언된 모형 학습\n",
    "model_l.fit(X_train, y_train)\n",
    "model_r.fit(X_train, y_train)\n",
    "model_e.fit(X_train, y_train)\n",
    "\n",
    "from sklearn.metrics import mean_squared_error\n",
    "# 릿지 모델 예측 값\n",
    "y_pred_l = model_l.predict(X_train)\n",
    "print(mean_squared_error(y_pred_l, y_train, squared=False))\n",
    "# 라쏘 모델 예측 값\n",
    "y_pred_r = model_r.predict(X_train)\n",
    "print(mean_squared_error(y_pred_r, y_train, squared=False))\n",
    "# 엘라스틱넷 모델 예측 값\n",
    "y_pred_e = model_r.predict(X_train)\n",
    "print(mean_squared_error(y_pred_e, y_train, squared=False))\n",
    "# 값의 크기가 작을수록 좋다."
   ]
  },
  {
   "cell_type": "markdown",
   "source": [
    "# Logistic Regression"
   ],
   "metadata": {
    "collapsed": false
   },
   "id": "76b0a11afb7b8e9b"
  },
  {
   "cell_type": "code",
   "execution_count": 2,
   "outputs": [
    {
     "name": "stdout",
     "output_type": "stream",
     "text": [
      "[[0.81999686 0.18000314]\n",
      " [0.69272057 0.30727943]\n",
      " [0.52732579 0.47267421]\n",
      " [0.35570732 0.64429268]\n",
      " [0.21458576 0.78541424]\n",
      " [0.11910229 0.88089771]\n",
      " [0.06271329 0.93728671]\n",
      " [0.03205032 0.96794968]\n",
      " [0.0161218  0.9838782 ]\n",
      " [0.00804372 0.99195628]]\n",
      "[0 0 0 1 1 1 1 1 1 1]\n",
      "0.8\n",
      "[[2 1]\n",
      " [1 6]]\n",
      "              precision    recall  f1-score   support\n",
      "\n",
      "           0       0.67      0.67      0.67         3\n",
      "           1       0.86      0.86      0.86         7\n",
      "\n",
      "    accuracy                           0.80        10\n",
      "   macro avg       0.76      0.76      0.76        10\n",
      "weighted avg       0.80      0.80      0.80        10\n"
     ]
    }
   ],
   "source": [
    "# Step 1 : import packages, functions, and classes\n",
    "import numpy as np\n",
    "from sklearn.linear_model import LogisticRegression\n",
    "from sklearn.metrics import classification_report, confusion_matrix\n",
    "\n",
    "# Step 2 : Get data\n",
    "x = np.arange(10).reshape(-1, 1)\n",
    "y= np.array([0, 1, 0, 0, 1, 1, 1, 1, 1, 1])\n",
    "\n",
    "# Step 3 : Create a model and train it\n",
    "model = LogisticRegression(solver='liblinear', C=10.0, random_state=0)\n",
    "model.fit(x, y)\n",
    "\n",
    "# Step 4 : Evaluate the model\n",
    "p_pred = model.predict_proba(x)\n",
    "y_pred = model.predict(x)\n",
    "score_ = model.score(x, y)\n",
    "conf_m = confusion_matrix(y, y_pred)\n",
    "report = classification_report(y, y_pred)\n",
    "\n",
    "# Step 5 : Print\n",
    "print(p_pred)\n",
    "print(y_pred)\n",
    "print(score_)\n",
    "print(conf_m)\n",
    "print(report)"
   ],
   "metadata": {
    "collapsed": false,
    "ExecuteTime": {
     "end_time": "2023-10-11T08:06:01.418098Z",
     "start_time": "2023-10-11T08:06:01.396071Z"
    }
   },
   "id": "cc326641c4c7d58d"
  },
  {
   "cell_type": "code",
   "execution_count": null,
   "outputs": [],
   "source": [],
   "metadata": {
    "collapsed": false
   },
   "id": "6c67f9902fd87fdb"
  }
 ],
 "metadata": {
  "kernelspec": {
   "display_name": "Python 3",
   "language": "python",
   "name": "python3"
  },
  "language_info": {
   "codemirror_mode": {
    "name": "ipython",
    "version": 2
   },
   "file_extension": ".py",
   "mimetype": "text/x-python",
   "name": "python",
   "nbconvert_exporter": "python",
   "pygments_lexer": "ipython2",
   "version": "2.7.6"
  }
 },
 "nbformat": 4,
 "nbformat_minor": 5
}
